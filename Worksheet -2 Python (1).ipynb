{
 "cells": [
  {
   "cell_type": "markdown",
   "metadata": {},
   "source": [
    "# Q14 and Q15 are programming questions. Answer them in Jupyter Notebook.\n",
    "14.\tWrite a python program to solve a quadratic equation of the form 𝑎𝑥2 + 𝑏𝑥 + 𝑐 = 0. Where a, b and c are to be taken by user input. Handle the erroneous input, such as ‘a’ should not be equal to 0"
   ]
  },
  {
   "cell_type": "code",
   "execution_count": 18,
   "metadata": {},
   "outputs": [
    {
     "name": "stdout",
     "output_type": "stream",
     "text": [
      "Enter the value of a: 5\n",
      "Enter the value of b: 5\n",
      "Enter the value of c: 1\n",
      "The solution are (-0.7236067977499789+0j) and (-0.276393202250021+0j)\n"
     ]
    }
   ],
   "source": [
    "import cmath\n",
    "a=int(input(\"Enter the value of a: \"))\n",
    "a!=0\n",
    "b=int(input(\"Enter the value of b: \"))\n",
    "c=int(input(\"Enter the value of c: \"))\n",
    "# calculate the discriminant\n",
    "d=(b**2)-(4*a*c)\n",
    "# find two solutions\n",
    "sol1= (-b-cmath.sqrt(d))/(2*a)\n",
    "sol2= (-b+cmath.sqrt(d))/(2*a)\n",
    "\n",
    "print(\"The solution are {0} and {1}\".format(sol1,sol2))"
   ]
  },
  {
   "cell_type": "code",
   "execution_count": 15,
   "metadata": {},
   "outputs": [
    {
     "name": "stdout",
     "output_type": "stream",
     "text": [
      "Enter a number: 5\n",
      "The sum is 15\n"
     ]
    }
   ],
   "source": [
    "#Write a python program to find the sum of first ‘n’ natural numbers without using any loop. \n",
    "#Ask user to input the value of ‘n’.\n",
    "def recur_sum(n):\n",
    "    if n<=1:\n",
    "        return n\n",
    "    else:\n",
    "        return n + recur_sum(n-1)\n",
    "    \n",
    "num=int(input(\"Enter a number: \"))\n",
    "if num<0:\n",
    "    print(\"Enter a postive number\")\n",
    "else:\n",
    "    print(\"The sum is\", recur_sum(num))\n"
   ]
  }
 ],
 "metadata": {
  "kernelspec": {
   "display_name": "Python 3",
   "language": "python",
   "name": "python3"
  },
  "language_info": {
   "codemirror_mode": {
    "name": "ipython",
    "version": 3
   },
   "file_extension": ".py",
   "mimetype": "text/x-python",
   "name": "python",
   "nbconvert_exporter": "python",
   "pygments_lexer": "ipython3",
   "version": "3.6.10"
  }
 },
 "nbformat": 4,
 "nbformat_minor": 4
}
